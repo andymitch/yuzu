{
 "cells": [
  {
   "cell_type": "code",
   "execution_count": 2,
   "source": [
    "from yuzu.exchanges.binanceus import create_order, get_balances\n",
    "create_order('sell', 'ALGOUSD')\n",
    "get_balances()"
   ],
   "outputs": [
    {
     "output_type": "stream",
     "name": "stdout",
     "text": [
      "{'pair': 'ALGOUSD', 'left': 'ALGO', 'right': 'USD', 'left_min': 0.001, 'right_min': 10.0, 'left_precision': 3, 'right_precision': 4, 'curr_price': 0.844}\n",
      "{'symbol': 'ALGOUSD', 'side': 'SELL', 'type': 'MARKET', 'quantity': 17.862}\n"
     ]
    },
    {
     "output_type": "execute_result",
     "data": {
      "text/plain": [
       "{'balances': {'BTC': {'amount': 2e-08, 'value': 0.0009},\n",
       "  'ETH': {'amount': 9e-06, 'value': 0.0272},\n",
       "  'USD': {'amount': 15.0579, 'value': 15.0579},\n",
       "  'LTC': {'amount': 9.1e-07, 'value': 0.0001},\n",
       "  'XLM': {'amount': 0.0020061, 'value': 0.0006},\n",
       "  'ALGO': {'amount': 0.01810279, 'value': 0.0153},\n",
       "  'BUSD': {'amount': 0.00777363, 'value': 0.0078},\n",
       "  'MATIC': {'amount': 7.4121, 'value': 8.2608}},\n",
       " 'total': 23.3706}"
      ]
     },
     "metadata": {},
     "execution_count": 2
    }
   ],
   "metadata": {}
  }
 ],
 "metadata": {
  "orig_nbformat": 4,
  "language_info": {
   "name": "python",
   "version": "3.9.5",
   "mimetype": "text/x-python",
   "codemirror_mode": {
    "name": "ipython",
    "version": 3
   },
   "pygments_lexer": "ipython3",
   "nbconvert_exporter": "python",
   "file_extension": ".py"
  },
  "kernelspec": {
   "name": "python3",
   "display_name": "Python 3.9.5 64-bit"
  },
  "interpreter": {
   "hash": "aee8b7b246df8f9039afb4144a1f6fd8d2ca17a180786b69acc140d282b71a49"
  }
 },
 "nbformat": 4,
 "nbformat_minor": 2
}