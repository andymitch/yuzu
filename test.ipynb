{
 "cells": [
  {
   "cell_type": "code",
   "execution_count": null,
   "source": [
    "from yuzu.exchanges.binanceus import BinanceUS\n",
    "import json\n",
    "exchange = BinanceUS(None, None)\n",
    "order = exchange.create_order('buy', 'ADAUSD', test=True)\n",
    "print(order)\n",
    "balance = exchange.get_balances()\n",
    "print(json.dumps(balance, indent=2))"
   ],
   "outputs": [],
   "metadata": {}
  },
  {
   "cell_type": "code",
   "execution_count": null,
   "source": [
    "from optimize import optimize\n",
    "from strategies.macdas_strat import macdas_strat, config_bounds\n",
    "optimize(macdas_strat, config_bounds, 'ADAUSD', '1m', ticks=4000)"
   ],
   "outputs": [],
   "metadata": {}
  },
  {
   "cell_type": "code",
   "execution_count": null,
   "source": [
    "from optimize import optimize\n",
    "from strategies.macdas_strat import macdas_strat, config_bounds\n",
    "optimize(macdas_strat, config_bounds, 'ADAUSD', '1h', ticks=4000)"
   ],
   "outputs": [],
   "metadata": {}
  },
  {
   "cell_type": "code",
   "execution_count": null,
   "source": [
    "from yuzu.exchanges.binanceus import get_backdata\n",
    "from strategies.macdas_strat import macdas_strat\n",
    "from plotly.subplots import make_subplots\n",
    "import plotly.graph_objects as go\n",
    "from pandas import DataFrame\n",
    "from numpy import full, nan\n",
    "from flask import Flask\n",
    "\n",
    "config = {'buy_slow_len': 35,\n",
    "  'buy_fast_len': 23,\n",
    "  'buy_sig_len': 9,\n",
    "  'buy_rsi_len': 24,\n",
    "  'sell_slow_len': 26,\n",
    "  'sell_fast_len': 18,\n",
    "  'sell_sig_len': 4,\n",
    "  'sell_rsi_len': 13,\n",
    "  'rsi_lb': 38.7,\n",
    "  'rsi_ub': 75.1}\n",
    "\n",
    "def bar(data, name):\n",
    "    marker_colors = full(data[name].shape, nan, dtype=object)\n",
    "    marker_colors[(data[name] > data[name].shift()) & (data[name] > 0)] = \"green\"\n",
    "    marker_colors[(data[name] > data[name].shift()) & (data[name] < 0)] = \"RGBA(255, 0, 0, .25)\"\n",
    "    marker_colors[data[name] == data[name].shift()] = \"grey\"\n",
    "    marker_colors[(data[name] < data[name].shift()) & (data[name] > 0)] = \"RGBA(0, 255, 0, .25)\"\n",
    "    marker_colors[(data[name] < data[name].shift()) & (data[name] < 0)] = \"red\"\n",
    "    return go.Bar(y=data[name], x=data.index, name=name, marker_color=marker_colors)\n",
    "\n",
    "def line(data, name, color):\n",
    "    return go.Scatter(y=data[name], x=data.index, mode=\"lines\", line_shape=\"spline\", name=name, line=dict(color=color))\n",
    "\n",
    "def plot(data):\n",
    "    fig = make_subplots(rows=3, cols=1)\n",
    "    fig.add_trace(go.Candlestick(x=data.index, open=data.open, high=data.high, low=data.low, close=data.close, name='ADAUSD'), row=1, col=1)\n",
    "    fig.add_trace(go.Scatter(y=data.buy, x=data.index, name=\"buy\", mode=\"markers\", marker=dict(color=\"cyan\", symbol=\"circle-open\", size=10)), row=1, col=1)\n",
    "    fig.add_trace(go.Scatter(y=data.sell, x=data.index, name=\"sell\", mode=\"markers\", marker=dict(color=\"yellow\", symbol=\"circle-open\", size=10)), row=1, col=1)\n",
    "    fig.add_trace(bar(data, 'buy_hist'), row=2, col=1)\n",
    "    fig.add_trace(line(data, 'buy_rsi', 'purple'), row=3, col=1)\n",
    "    fig.update_xaxes(rangeslider_visible=False, spikemode=\"across\", spikesnap=\"cursor\", spikedash=\"dot\", spikecolor=\"grey\", spikethickness=1)\n",
    "    fig.update_layout(template=\"plotly_dark\", hovermode=\"x\", spikedistance=-1)\n",
    "    fig.update_traces(xaxis=\"x\")\n",
    "    fig.show()\n",
    "\n",
    "data = macdas_strat(get_backdata('ADAUSD', '1h', 4000), config)\n",
    "print(data)\n",
    "plot(data)"
   ],
   "outputs": [],
   "metadata": {}
  },
  {
   "cell_type": "raw",
   "source": [
    "Trade Strategy Performance Metrics\n",
    "1. trade counts, win vs lose\n",
    "2. largest stretch of consecutive wins vs loses\n",
    "3. avg win profit vs avg lose loss\n",
    "4. largest and longest drawdown (from trade open, how deep did it dip and how long was it low regardless of if it eneded up as profit at close or not?)\n",
    "5. (non-performance, just inciteful) trade freq, duration wins vs loses"
   ],
   "metadata": {}
  },
  {
   "cell_type": "code",
   "execution_count": null,
   "source": [
    "win_rate = lambda trades: len(list(filter(lambda t: t['win'], trades))) / len(trades)"
   ],
   "outputs": [],
   "metadata": {}
  },
  {
   "cell_type": "code",
   "execution_count": null,
   "source": [
    "from itertools import groupby\n",
    "\n",
    "def consectutive_win_rate(trades):\n",
    "    consecs = [(n,len(list(c))) for n,c in groupby(trades,lambda t: t['win'])]\n",
    "    most_consec_wins = max([t[1] for t in list(filter(lambda t: t[0], consecs))])\n",
    "    most_consec_loses = max([t[1] for t in list(filter(lambda t: not t[0], consecs))])\n",
    "    return most_consec_wins / (most_consec_wins + most_consec_loses)"
   ],
   "outputs": [],
   "metadata": {}
  },
  {
   "cell_type": "code",
   "execution_count": null,
   "source": [
    "avg_profit = lambda trades: sum([t['close']-t['open'] for t in trades]) / len(trades)"
   ],
   "outputs": [],
   "metadata": {}
  },
  {
   "cell_type": "code",
   "execution_count": null,
   "source": [
    "def avg_drawdown(trades):\n",
    "    wins = list(filter(lambda t: t['win'], trades))\n",
    "    drops = [(t['open']-t['low'])/t['open'] for t in trades]\n",
    "    return sum(drops)/len(drops)"
   ],
   "outputs": [],
   "metadata": {}
  },
  {
   "cell_type": "code",
   "execution_count": null,
   "source": [
    "def score(trades):\n",
    "    return win_rate(trades) + consectutive_win_rate(trades) + avg_profit(trades) - avg_drawdown(trades)"
   ],
   "outputs": [],
   "metadata": {}
  },
  {
   "cell_type": "code",
   "execution_count": null,
   "source": [
    "from numpy import isnan\n",
    "from pandas import DataFrame\n",
    "\n",
    "def quick_backtest(data: DataFrame, trading_fee=0.001) -> float:\n",
    "    final_price = data.close.iat[-1]\n",
    "    sub_data = data[['buy','sell']].copy(deep=False)\n",
    "    sub_data = sub_data.dropna(subset=['buy','sell'], how='all')\n",
    "    if not sub_data.empty:\n",
    "        if not sub_data.sell.iat[0] is None:\n",
    "            sub_data.loc[sub_data.index[0], \"sell\"] = None\n",
    "        if not sub_data.buy.iat[-1] is None:\n",
    "            sub_data.loc[sub_data.index[-1], \"buy\"] = None\n",
    "    trades = []\n",
    "    open_trade = False\n",
    "    for index, tick in sub_data.iterrows():\n",
    "        if not open_trade and not isnan(tick.buy):\n",
    "            trades.append({'open': tick.buy, 'i': index})\n",
    "            open_trade = True\n",
    "        elif open_trade and not isnan(tick.sell):\n",
    "            curr_trade = trades[-1]\n",
    "            trades[-1] = {\n",
    "                'open': curr_trade['open'],\n",
    "                'close': tick.sell,\n",
    "                'low': min(data.loc[curr_trade['i']:index, 'low']),\n",
    "                'win': tick.sell > curr_trade['open']\n",
    "            }\n",
    "            open_trade = False\n",
    "    return trades, score(trades)"
   ],
   "outputs": [],
   "metadata": {}
  },
  {
   "cell_type": "code",
   "execution_count": null,
   "source": [
    "from yuzu.exchanges.BinanceUS import get_backdata\n",
    "from yuzu.strategies.macdas_strat import macdas_strat\n",
    "\n",
    "config = {\n",
    "    'buy_slow_len': 32,\n",
    "    'buy_fast_len': 17,\n",
    "    'buy_sig_len': 4,\n",
    "    'buy_rsi_len': 5,\n",
    "    'sell_slow_len': 29,\n",
    "    'sell_fast_len': 7,\n",
    "    'sell_sig_len': 3,\n",
    "    'sell_rsi_len': 31,\n",
    "    'rsi_lb': 34.6,\n",
    "    'rsi_ub': 49.7\n",
    "}\n",
    "\n",
    "data = get_backdata('BTCUSD', '1h', 100000)\n",
    "data = macdas_strat(data, config)"
   ],
   "outputs": [],
   "metadata": {}
  },
  {
   "cell_type": "code",
   "execution_count": null,
   "source": [
    "from time import perf_counter\n",
    "import numpy as np\n",
    "import json\n",
    "class CustomJSONizer(json.JSONEncoder):\n",
    "    def default(self, obj):\n",
    "        return super().encode(bool(obj)) \\\n",
    "            if isinstance(obj, np.bool_) \\\n",
    "            else super().default(obj)\n",
    "start = perf_counter()\n",
    "res = quick_backtest(data)\n",
    "td = perf_counter() - start\n",
    "print(td, 'seconds')\n",
    "print('score:', res[1])\n",
    "print('trade count:', len(res[0]))\n",
    "print(json.dumps(res[0], indent=2, cls=CustomJSONizer))\n",
    "from yuzu.strategies.macdas_strat import plot\n",
    "data[['bought', 'sold', 'stop_lossed', 'stop_loss', 'trade_profit']] = [None, None, None, None, None]\n",
    "plot(data, 'live').show()"
   ],
   "outputs": [],
   "metadata": {}
  },
  {
   "cell_type": "code",
   "execution_count": null,
   "source": [
    "from yuzu.exchanges.BinanceUS import get_backdata\n",
    "from yuzu.strategies.macdas_strat import macdas_strat, plot\n",
    "\n",
    "config = {\n",
    "    'buy_slow_len': 26,\n",
    "    'buy_fast_len': 12,\n",
    "    'buy_sig_len': 9,\n",
    "    'buy_rsi_len': 24,\n",
    "    'sell_slow_len': 26,\n",
    "    'sell_fast_len': 9,\n",
    "    'sell_sig_len': 6,\n",
    "    'sell_rsi_len': 14,\n",
    "    'rsi_lb': 38,\n",
    "    'rsi_ub': 68,\n",
    "    'ma_fast_len': 50,\n",
    "    'ma_slow_len': 20\n",
    "}\n",
    "\n",
    "fig = plot(macdas_strat(get_backdata('BTCUSD', '1m', 5000), config, True), config)\n",
    "fig.update_layout(height=2000)"
   ],
   "outputs": [],
   "metadata": {}
  },
  {
   "cell_type": "code",
   "execution_count": null,
   "source": [
    "def condition_params(**kwargs):\n",
    "    for k,v in kwargs.items():\n",
    "        if k == 'a':\n",
    "            v *= 2\n",
    "        if k == 'b':\n",
    "            v += 2\n",
    "        if k == 'c':\n",
    "            v -= 2\n",
    "        print(k, v)\n",
    "        kwargs[k] = v\n",
    "    return kwargs.values()\n",
    "\n",
    "a1, b1, c1 = 1, 2, 3\n",
    "a1, b1, c1 = condition_params(a=a1, c=c1, b=b1)\n",
    "print(a1, b1, c1)"
   ],
   "outputs": [],
   "metadata": {}
  },
  {
   "cell_type": "code",
   "execution_count": 1,
   "source": [
    "from yaza.binance import Exchange\n",
    "from yuzu.strategies.macdas_strat import macdas_strat\n",
    "from time import sleep\n",
    "import json\n",
    "\n",
    "config_file = open('./config.json')\n",
    "config = json.loads(config_file.read())['strategies']['macdas_strat']['1m']\n",
    "trader = Exchange(macdas_strat, config)\n",
    "trader.start_trading('BTCUSD', '1m')\n",
    "sleep(3600)\n",
    "trader.stop_trading('BTCUSD')"
   ],
   "outputs": [],
   "metadata": {}
  }
 ],
 "metadata": {
  "orig_nbformat": 4,
  "language_info": {
   "name": "python",
   "version": "3.9.5",
   "mimetype": "text/x-python",
   "codemirror_mode": {
    "name": "ipython",
    "version": 3
   },
   "pygments_lexer": "ipython3",
   "nbconvert_exporter": "python",
   "file_extension": ".py"
  },
  "kernelspec": {
   "name": "python3",
   "display_name": "Python 3.9.5 64-bit"
  },
  "interpreter": {
   "hash": "aee8b7b246df8f9039afb4144a1f6fd8d2ca17a180786b69acc140d282b71a49"
  }
 },
 "nbformat": 4,
 "nbformat_minor": 2
}